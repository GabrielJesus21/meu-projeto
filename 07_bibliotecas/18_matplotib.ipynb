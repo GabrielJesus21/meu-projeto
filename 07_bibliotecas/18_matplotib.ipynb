{
 "cells": [
  {
   "cell_type": "code",
   "execution_count": null,
   "metadata": {},
   "outputs": [],
   "source": []
  },
  {
   "cell_type": "code",
   "execution_count": null,
   "metadata": {},
   "outputs": [],
   "source": []
  },
  {
   "cell_type": "code",
   "execution_count": null,
   "metadata": {},
   "outputs": [],
   "source": [
    "plt.plot(tempo, valores)\n",
    "plt.xlabel(\"Tempo (dias)\")\n",
    "plt.ylabel(\"Valores\")\n",
    "plt.title(\"Evolução dos valores ao longo do tempo\")\n",
    "plt.show()"
   ]
  },
  {
   "cell_type": "code",
   "execution_count": null,
   "metadata": {},
   "outputs": [],
   "source": [
    "categorias = [\"vestuário\", \"mercearias\", \"fruta\", \"peixe\"]\n",
    "plt.bar(categorias, valores)\n",
    "plt.xlabel(\"Categorias\")\n",
    "plt.ylabel(\"Valores\")\n",
    "plt.title(\"Comparação de valores de categorias\")\n",
    "plt.show()"
   ]
  },
  {
   "cell_type": "code",
   "execution_count": null,
   "metadata": {},
   "outputs": [],
   "source": [
    "#Criar gráfico dispersão\n",
    "x = [5, 7, 8, 9, 10]\n",
    "y = [2, 3, 8.4, 5.3, 7]\n",
    "\n",
    "plt.scatter(x,y)\n",
    "plt.xlabel(\"Eixo X \")\n",
    "plt.ylabel(\"Eixo Y\")\n",
    "plt.title(\"Gráfico de dispersão\")\n",
    "plt.show()\n"
   ]
  },
  {
   "cell_type": "code",
   "execution_count": null,
   "metadata": {},
   "outputs": [],
   "source": [
    "# Criar gráfico de pizza\n",
    "categorias = [\"vestuário\", \"mercearias\", \"fruta\"]\n",
    "valores = [30, 10, 60]\n",
    "\n",
    "plt.pie(valores, labels = categorias, autopct=\"%1.1f%%\")\n",
    "plt.title(\"Distribuição das categorias\")\n",
    "plt.show()"
   ]
  }
 ],
 "metadata": {
  "language_info": {
   "name": "python"
  }
 },
 "nbformat": 4,
 "nbformat_minor": 2
}
